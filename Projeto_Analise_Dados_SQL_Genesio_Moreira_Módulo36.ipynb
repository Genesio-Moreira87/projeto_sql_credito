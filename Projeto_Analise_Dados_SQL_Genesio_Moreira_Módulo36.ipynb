{
  "nbformat": 4,
  "nbformat_minor": 0,
  "metadata": {
    "colab": {
      "provenance": []
    },
    "kernelspec": {
      "name": "python3",
      "display_name": "Python 3"
    },
    "language_info": {
      "name": "python"
    }
  },
  "cells": [
    {
      "cell_type": "markdown",
      "source": [
        "Este Documento, se trata de um projeto de Analise de Dados SQL, pelo curso Profissão Analista de Dados, pela EBAC. Contém a Etapa de Exploração de dados, a Analise de Dados e Conclusões, retirada através das analises das respostas das Query.\n",
        "\n"
      ],
      "metadata": {
        "id": "WEHWGG8WoQI4"
      }
    },
    {
      "cell_type": "markdown",
      "source": [
        "# Módulo | SQL: Projeto\n",
        "\n",
        "\n",
        "\n"
      ],
      "metadata": {
        "id": "Cw-MhfpF6Pom"
      }
    },
    {
      "cell_type": "markdown",
      "source": [
        "# 1. Exploração de dados\n",
        "\n",
        "A primeira fase da análise é entender o que tem na nossa matéria prima. Vamos a exploração de dados:\n",
        "\n",
        "- Qual a quantidade de informações temos na nossa base de dados?\n",
        "\n",
        "**Query**: SELECT count(*) FROM credito  \n",
        "\n",
        "![](https://github.com/Genesio-Moreira87/projeto_sql_credito/blob/main/images/quantidade%20de%20coluna%20na%20tabela%20credito.jpg?raw=true)\n",
        "\n",
        "Reposta: 2564 linhas\n",
        "\n",
        "\n",
        "Obs.: A base de dados do link acima contém mais linhas do que a seleção utilizada.  Considerando apenas uma fração dos dados. Por conta de redução de custos computacionais e financeiros no AWS Athena. Na prática, quanto maior a quantidade de dados utilizada, mais confiável a análise.\n",
        "\n",
        "- **Como são os dados** ?\n",
        "\n",
        "\n",
        "**Query**: SELECT * FROM credito LIMIT 10;\n",
        "\n",
        "Dez primeiras linhas do dataset\n",
        "![Select](https://github.com/Genesio-Moreira87/projeto_sql_credito/blob/main/images/query1.jpg?raw=true)\n",
        "\n",
        "É possível visualizar que existem algumas informações nulas na tabela 'na', vamos olhar mais de perto para os valores de cada coluna!\n",
        "\n",
        "- **Quais os tipos de cada coluna ?**\n",
        "\n",
        "**Query**: DESCRIBE credito\n",
        "\n",
        "Descrição dos tipos de dados\n",
        "\n",
        "![](https://github.com/Genesio-Moreira87/projeto_sql_credito/blob/main/images/DESCRIBE%20credito.jpg?raw=true)  \n",
        "\n",
        "\n",
        "- **Quais são os tipos de estado_civil disponíveis no dataset?**  \n",
        "\n",
        "**Query**:  \n",
        "SELECT DISTINCT estado_civil FROM credito  \n",
        "\n",
        "**Resposta:**  \n",
        "![](https://github.com/Genesio-Moreira87/projeto_sql_credito/blob/main/images/Quais%20s%C3%A3o%20os%20tipos%20de%20estado_civil%20dispon%C3%ADveis%20no%20dataset.jpg?raw=true)  \n",
        "\n",
        "\n",
        "\n",
        "- Agora vamos contar a quantidade de valores Nulos 'na', nas colunas do tipo String\n",
        "\n",
        "**Query**:   \n",
        "SELECT   \n",
        "  COUNT(CASE WHEN sexo = 'na' THEN 1 END) AS count_sexo,    \n",
        "  COUNT(CASE WHEN escolaridade = 'na' THEN 1 END) AS count_escolaridade,  \n",
        "  COUNT(CASE WHEN estado_civil = 'na' THEN 1 END) AS count_estado_civil,  \n",
        "  COUNT(CASE WHEN salario_anual = 'na' THEN 1 END) AS count_salario_anual,  \n",
        "  COUNT(CASE WHEN tipo_cartao = 'na' THEN 1 END) AS count_tipo_cartao  \n",
        "FROM credito  \n",
        "WHERE sexo = 'na'  \n",
        "   OR escolaridade = 'na'  \n",
        "   OR estado_civil = 'na'  \n",
        "   OR salario_anual = 'na'  \n",
        "   OR tipo_cartao = 'na';  \n",
        "\n",
        "Resposta:\n",
        "\n",
        "![](https://github.com/Genesio-Moreira87/projeto_sql_credito/blob/main/images/quantidade%20de%20valor%20nulo_%20coluna%20tipo%20String.jpg?raw=true)\n",
        "\n",
        "Podemos verificar que a Coluna sexo não tem valores 'na', a coluna escolaridade possui 346 valores 'na', a coluna estado_civil possui 116 valores 'na', a coluna salario_anual possui 235 valores 'na' e por fim a coluna tipo_cartao não possui nenhum valor 'na'.\n",
        "\n",
        "Agora vamos verificar os Valores 'na' Nulos, nas colunas do tipo int e float.\n",
        "\n",
        "**Query**:  \n",
        "SELECT  \n",
        "    COUNT(CASE WHEN idade IS NULL THEN 1 END) AS count_idade,  \n",
        "    COUNT(CASE WHEN salario_anual IS NULL THEN 1 END) AS count_salario_anual,  \n",
        "    COUNT(CASE WHEN qtd_produtos IS NULL THEN 1 END) AS count_qtd_produtos,  \n",
        "    COUNT(CASE WHEN iteracoes_12m IS NULL THEN 1 END) AS count_iteracoes_12m,  \n",
        "    COUNT(CASE WHEN meses_inativo_12m IS NULL THEN 1 END) AS count_meses_inativo_12m,  \n",
        "    COUNT(CASE WHEN limite_credito IS NULL THEN 1 END) AS count_limite_credito,  \n",
        "    COUNT(CASE WHEN valor_transacoes_12m IS NULL THEN 1 END) AS count_valor_transacoes_12m,  \n",
        "    COUNT(CASE WHEN qtd_transacoes_12m IS NULL THEN 1 END) AS count_qtd_transacoes_12m  \n",
        "FROM credito;  \n",
        "\n",
        "Resposta:\n",
        "\n",
        "![](https://github.com/Genesio-Moreira87/projeto_sql_credito/blob/main/images/query_consultar_na_int_float.jpg?raw=true)\n",
        "\n",
        "Agora podemos validar que não existem valores Nulos nas colunas do tipo Int e Float.  \n",
        "\n",
        "\n",
        "\n",
        "\n",
        "\n",
        "\n",
        "\n",
        "\n",
        "\n",
        "\n",
        "**Quais são os tipos de salario_anual disponíveis no dataset?**\n",
        "\n",
        "Query: SELECT DISTINCT salario_anual FROM credito  \n",
        "\n",
        "Tipos de salario anual  \n",
        "\n",
        "![](https://github.com/Genesio-Moreira87/projeto_sql_credito/blob/main/images/salario%20anual.jpg?raw=true)  \n",
        "\n",
        "Os salários nesse dataset não estão expostas com o valor exato que o cliente ganha. O que está informado é a faixa salarial de cada um. Também contem dados nulos.\n",
        "\n",
        "Quais são os tipos de cartão disponíveis no dataset?\n",
        "\n",
        "Query: SELECT DISTINCT tipo_cartao FROM credito\n",
        "\n",
        "Tipos de cartão  \n",
        "\n",
        "![](https://github.com/Genesio-Moreira87/projeto_sql_credito/blob/main/images/tipo%20de%20cartao.jpg?raw=true)  \n",
        "\n",
        "Aqui vemos que não há necessidade de tratar valores nulos."
      ],
      "metadata": {
        "id": "57xSnSoa6tU8"
      }
    },
    {
      "cell_type": "markdown",
      "source": [
        "#1.2. Analise dos Dados da Tabela credito"
      ],
      "metadata": {
        "id": "X_qqR_58tbWc"
      }
    },
    {
      "cell_type": "markdown",
      "source": [
        "- Limite de Crédito Médio por Tipo de Cartão:  \n",
        "\n",
        "**Query**:  \n",
        "SELECT tipo_cartao, AVG(limite_credito) AS media_limite_credito  \n",
        "FROM credito  \n",
        "GROUP BY tipo_cartao;  \n",
        "\n",
        "**Resultado**:  \n",
        "![](https://github.com/Genesio-Moreira87/projeto_sql_credito/blob/main/images/Limite%20de%20Cr%C3%A9dito%20M%C3%A9dio%20por%20Tipo%20de%20Cart%C3%A3o.jpg?raw=true)\n"
      ],
      "metadata": {
        "id": "-c5b8a_muzWX"
      }
    },
    {
      "cell_type": "markdown",
      "source": [
        "- Número médio de dependentes por tipo de cartão  \n",
        "\n",
        "**Query**:  \n",
        "SELECT tipo_cartao, AVG(dependentes) AS media_dependentes  \n",
        "FROM credito  \n",
        "GROUP BY tipo_cartao;  \n",
        "\n",
        "**Resultado**:  \n",
        "\n",
        "![](https://github.com/Genesio-Moreira87/projeto_sql_credito/blob/main/images/N%C3%BAmero%20m%C3%A9dio%20de%20dependentes%20por%20tipo%20de%20cart%C3%A3o.jpg?raw=true)"
      ],
      "metadata": {
        "id": "r2ZPQtN3u8Pq"
      }
    },
    {
      "cell_type": "markdown",
      "source": [
        "- Vamos somas as quantidades de compras de produtos por Sexo.  \n",
        "\n",
        "**Query**:  \n",
        "SELECT sexo, sum(qtd_produtos) AS soma_compras  \n",
        "FROM credito  \n",
        "WHERE sexo != 'na'  \n",
        "GROUP BY sexo;  \n",
        "\n",
        "Resposta:  \n",
        "![](https://github.com/Genesio-Moreira87/projeto_sql_credito/blob/main/images/somas%20de%20produto%20por%20sexo.jpg?raw=true)  \n",
        "\n",
        "% por Sexo\n",
        "\n",
        "![](https://github.com/Genesio-Moreira87/projeto_sql_credito/blob/main/images/porcetagem%20de%20compras%20por%20sexo.jpg?raw=true)\n"
      ],
      "metadata": {
        "id": "PYsa_vylvrd3"
      }
    },
    {
      "cell_type": "markdown",
      "source": [
        "- Quais são os tipos de escolaridade disponíveis no dataset e sua quantidade ?  \n",
        "\n",
        "**Query**:  \n",
        "SELECT escolaridade, COUNT(*) AS quantidade  \n",
        "FROM credito  \n",
        "GROUP BY escolaridade;  \n",
        "\n",
        "**Resposta**:\n",
        "![](https://github.com/Genesio-Moreira87/projeto_sql_credito/blob/main/images/Quais%20s%C3%A3o%20os%20tipos%20de%20escolaridade%20dispon%C3%ADveis%20no%20dataset%20e%20sua%20quantidade.jpg?raw=true)  \n",
        "\n",
        "** % por nivel de escolaridade**   \n",
        "\n",
        "![](https://github.com/Genesio-Moreira87/projeto_sql_credito/blob/main/images/porcetagem%20Quais%20s%C3%A3o%20os%20tipos%20de%20escolaridade%20dispon%C3%ADveis%20no%20dataset%20e%20sua%20quantidade.jpg?raw=true)  \n"
      ],
      "metadata": {
        "id": "pnvj_ALG89mo"
      }
    },
    {
      "cell_type": "markdown",
      "source": [
        "- **Quantidade de Cliente por estado civil, exceto os 'na':**  \n",
        "\n",
        "**Query:**  \n",
        "SELECT estado_civil, COUNT(*) AS quantidade  \n",
        "FROM credito  \n",
        "WHERE estado_civil != 'na'  \n",
        "GROUP BY estado_civil;  \n",
        "\n",
        "Resposta:  \n",
        "![](https://github.com/Genesio-Moreira87/projeto_sql_credito/blob/main/images/Quantidade%20de%20Cliente%20po%20estado%20civil,%20exceto%20os%20'na'.jpg?raw=true)  \n",
        "\n",
        "% por estado civil\n",
        "\n",
        "![](https://github.com/Genesio-Moreira87/projeto_sql_credito/blob/main/images/porcetagem%20Quantidade%20de%20Cliente%20po%20estado%20civil,%20exceto%20os%20'na'.jpg?raw=true)  \n"
      ],
      "metadata": {
        "id": "cUYJ9MLH_Gps"
      }
    },
    {
      "cell_type": "markdown",
      "source": [
        "- Quantidade de compras por estado civil  exceto os valores 'na'  \n",
        "\n",
        "**Query**:\n",
        "SELECT estado_civil, SUM(qtd_transacoes_12m) AS total_compras  \n",
        "FROM credito  \n",
        "WHERE estado_civil != 'na'  \n",
        "GROUP BY estado_civil;  \n",
        "\n",
        "Resposta:  \n",
        "![](https://github.com/Genesio-Moreira87/projeto_sql_credito/blob/main/images/Quantidade%20de%20compras%20por%20estado%20civil%20%20exceto%20os%20valores%20'na'.jpg?raw=true)  \n",
        "\n",
        "% Quantidade de compras por estado civil\n",
        "\n",
        "![](https://github.com/Genesio-Moreira87/projeto_sql_credito/blob/main/images/porcetagem%20Quantidade%20de%20Cliente%20po%20estado%20civil,%20exceto%20os%20'na'.jpg?raw=true)  \n"
      ],
      "metadata": {
        "id": "OsNFC_VegzVK"
      }
    },
    {
      "cell_type": "markdown",
      "source": [
        "- Valor Total de compras nos ultimos 12 meses, por estado civil, exceto valores 'na'  \n",
        "\n",
        "**Query**:  \n",
        "SELECT estado_civil, sexo, SUM(valor_transacoes_12m) AS total_gasto  \n",
        "FROM credito  \n",
        "WHERE estado_civil != 'na'  \n",
        "GROUP BY estado_civil, sexo;  \n",
        "\n",
        "Resposta:\n",
        "\n",
        "![](https://github.com/Genesio-Moreira87/projeto_sql_credito/blob/main/images/Valor%20Total%20de%20compras%20nos%20ultimos%2012%20meses,%20por%20estado%20civil,%20exceto%20valores%20'na'%20%20.jpg?raw=true)  \n",
        "\n",
        "\n",
        "\n"
      ],
      "metadata": {
        "id": "BPcn7hjTl1mN"
      }
    },
    {
      "cell_type": "markdown",
      "source": [
        "# 2. Conclusão\n",
        "\n",
        "- Neste dataset (credito), as maiores partes das compras, foram feitos pelo sexo Masculino. Quebrando aquele dito que a mulher compra mais que os Homens.  \n",
        "- Limites médio por tipo de cartão: O menor é o blue e o Maior é o platinum.  \n",
        "- Que a Média de Dependentes, é maior para o tipo de cartão: platinum e gold.\n",
        "- A maior parte do clientes que utilizam o cartão de credito possuem o nível escolar: mestrado e ensino médio.\n",
        "- A grande maioria dos utilizadores do credito são casados.  \n",
        "- A Grande parte das compras são feitas por clientes casados  \n",
        "- Os maiores valores gastos nol ultimos 12 meses, foi feita por homens casados.\n",
        "\n"
      ],
      "metadata": {
        "id": "dH4Svlh7yCXG"
      }
    },
    {
      "cell_type": "markdown",
      "source": [
        "# **3. Links úteis**\n",
        "\n",
        "* Kaggle: https://www.kaggle.com/genesiomoreira\n",
        "* Portfólio projeto: https://www.kaggle.com/marianeneiva/credit-eda-and-analysis\n",
        "* Linkedlin: https://www.linkedin.com/in/genesio-coutinho-554733124/\n",
        "* GitHub: https://github.com/Genesio-Moreira87/projeto_sql_credito.git\n",
        "* Dados originais - gitHub André Perez: https://github.com/andre-marcos-perez/ebac-course-utils\n",
        "* Imagens do gitHub - Mariane Neiva: https://github.com/marianeneiva/sqlEBAC\n",
        "* AWS Athena: https://aws.amazon.com/pt/athena/?whats-new-cards.sort-by=item.additionalFields.postDateTime&whats-new-cards.sort-order=desc\n",
        "\n"
      ],
      "metadata": {
        "id": "ErT0ewFSo5Y4"
      }
    }
  ]
}